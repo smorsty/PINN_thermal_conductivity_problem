{
 "cells": [
  {
   "cell_type": "code",
   "execution_count": 1,
   "id": "1848d961",
   "metadata": {},
   "outputs": [],
   "source": [
    "import torch\n",
    "import torch.nn as nn\n",
    "import torch.nn.functional as F\n",
    "import numpy as np\n",
    "import matplotlib.pyplot as plt"
   ]
  },
  {
   "cell_type": "markdown",
   "id": "d2094b82",
   "metadata": {},
   "source": [
    "The thermal conductivity equation:\n",
    "$\\frac{\\partial T}{\\partial t} - \\frac{{\\partial}^2 T}{\\partial x^2} = 0$\n",
    "\n",
    "Assume $ T(t, x) = 2 + e^{-4 \\pi^2 t} sin(2\\pi x) + e^{-16\\pi^2 t} cos(4\\pi x)$, $x\\in[0,1], t\\in[0,5]$\n",
    "$\\\\$Boundary condition $T_0 = T(0, x) = 2 + sin(2\\pi x) + cos(4\\pi x)$"
   ]
  },
  {
   "cell_type": "code",
   "execution_count": 2,
   "id": "a86c6621",
   "metadata": {},
   "outputs": [],
   "source": [
    "#define amount of sample points\n",
    "N = 2000"
   ]
  },
  {
   "cell_type": "code",
   "execution_count": 3,
   "id": "67f284f2",
   "metadata": {},
   "outputs": [],
   "source": [
    "#in the beginning we plot graph of the thermal conductivity process\n",
    "def f_real(t, x):\n",
    "    return (2 + torch.exp(-4*(torch.pi**2)*t)*torch.sin(2*torch.pi*x) + torch.exp(-16*(torch.pi**2)*t)*torch.cos(4*torch.pi*x))"
   ]
  },
  {
   "cell_type": "code",
   "execution_count": 4,
   "id": "dba50661",
   "metadata": {},
   "outputs": [],
   "source": [
    "#define the class PINN\n",
    "class PINN(nn.Module):\n",
    "    def __init__(self,input_layer=2,h1=64,h2=64,h3=64,output_layer=1):\n",
    "        super().__init__()\n",
    "        self.fc1 = nn.Linear(input_layer,h1)\n",
    "        self.fc2 = nn.Linear(h1,h2)\n",
    "        self.fc3 = nn.Linear(h2,h3)\n",
    "        self.fc4 = nn.Linear(h3,output_layer)\n",
    "        \n",
    "    def forward(self, x):\n",
    "        x = F.gelu(self.fc1(x))\n",
    "        x = F.gelu(self.fc2(x))\n",
    "        x = F.gelu(self.fc3(x))\n",
    "        x = F.gelu(self.fc4(x))\n",
    "        \n",
    "        return x"
   ]
  },
  {
   "cell_type": "code",
   "execution_count": 5,
   "id": "dc5f4e23",
   "metadata": {},
   "outputs": [
    {
     "data": {
      "text/plain": [
       "<torch._C.Generator at 0x1194299b0>"
      ]
     },
     "execution_count": 5,
     "metadata": {},
     "output_type": "execute_result"
    }
   ],
   "source": [
    "torch.manual_seed(123)"
   ]
  },
  {
   "cell_type": "code",
   "execution_count": null,
   "id": "be0e9209",
   "metadata": {},
   "outputs": [],
   "source": []
  },
  {
   "cell_type": "code",
   "execution_count": 13,
   "id": "066fcf28",
   "metadata": {},
   "outputs": [
    {
     "name": "stdout",
     "output_type": "stream",
     "text": [
      "tensor([[[0.0257, 0.6631]],\n",
      "\n",
      "        [[0.0027, 0.2102]],\n",
      "\n",
      "        [[0.0092, 0.2663]],\n",
      "\n",
      "        ...,\n",
      "\n",
      "        [[0.0182, 0.0190]],\n",
      "\n",
      "        [[0.0247, 0.2033]],\n",
      "\n",
      "        [[0.0144, 0.7958]]], grad_fn=<StackBackward0>)\n",
      "tensor([[[0.0000, 0.6631]],\n",
      "\n",
      "        [[0.0000, 0.2102]],\n",
      "\n",
      "        [[0.0000, 0.2663]],\n",
      "\n",
      "        ...,\n",
      "\n",
      "        [[0.0000, 0.0190]],\n",
      "\n",
      "        [[0.0000, 0.2033]],\n",
      "\n",
      "        [[0.0000, 0.7958]]], grad_fn=<StackBackward0>)\n"
     ]
    }
   ],
   "source": [
    "x_phys = torch.rand(N).view(-1,1).requires_grad_(True)\n",
    "t_ = 0.05 * torch.rand(N).view(-1,1)\n",
    "t_phys = t_.requires_grad_(True)\n",
    "points = torch.stack((t_phys,x_phys), -1)\n",
    "points_bc = torch.stack((torch.zeros(N,1), x_phys), -1)\n",
    "\n",
    "pinn = PINN()\n",
    "optimizer = torch.optim.SGD(pinn.parameters(), lr=0.01)\n",
    "scheduler = torch.optim.lr_scheduler.ReduceLROnPlateau(\n",
    "    optimizer,\n",
    "    mode='max',\n",
    "    factor=0.9,\n",
    "    patience=1,\n",
    "    threshold=1e-2,\n",
    "    threshold_mode='rel',\n",
    ")"
   ]
  },
  {
   "cell_type": "markdown",
   "id": "ee037300",
   "metadata": {},
   "source": [
    "Loss1 = $\\frac{1}{N} \\sum_{i=1}^{N}(T(t_i, x_i)- f_{PINN}(t_i, x_i))^2$\n",
    "\n",
    "Loss2 = $\\frac{1}{N} \\sum_{i=1}^{N}(T_0(x_i)- f_{PINN}(0, x_i))^2$\n",
    "\n",
    "Loss3 = $\\frac{1}{N} \\sum_{i=1}^{N}(\\frac{\\partial}{\\partial t}f_{PINN}(t_i, x_i) - \\frac{{\\partial}^2 }{\\partial x^2}f_{PINN}(t_i, x_i))^2$"
   ]
  },
  {
   "cell_type": "code",
   "execution_count": 10,
   "id": "f79331c5",
   "metadata": {},
   "outputs": [
    {
     "name": "stdout",
     "output_type": "stream",
     "text": [
      "epoch: 0, loss: 9.804393768310547, learning_rate: 0.01\n",
      "epoch: 100, loss: 2.1792426109313965, learning_rate: 5.153775207320124e-05\n",
      "epoch: 200, loss: 2.153079032897949, learning_rate: 2.6561398887587566e-07\n",
      "epoch: 300, loss: 2.1528160572052, learning_rate: 9.26138713099791e-08\n"
     ]
    },
    {
     "ename": "KeyboardInterrupt",
     "evalue": "",
     "output_type": "error",
     "traceback": [
      "\u001b[0;31m---------------------------------------------------------------------------\u001b[0m",
      "\u001b[0;31mKeyboardInterrupt\u001b[0m                         Traceback (most recent call last)",
      "Cell \u001b[0;32mIn[10], line 25\u001b[0m\n\u001b[1;32m     23\u001b[0m dt \u001b[38;5;241m=\u001b[39m torch\u001b[38;5;241m.\u001b[39mautograd\u001b[38;5;241m.\u001b[39mgrad(network, t_phys, torch\u001b[38;5;241m.\u001b[39mones_like(network), create_graph\u001b[38;5;241m=\u001b[39m\u001b[38;5;28;01mTrue\u001b[39;00m)[\u001b[38;5;241m0\u001b[39m]\n\u001b[1;32m     24\u001b[0m dx \u001b[38;5;241m=\u001b[39m torch\u001b[38;5;241m.\u001b[39mautograd\u001b[38;5;241m.\u001b[39mgrad(network, x_phys, torch\u001b[38;5;241m.\u001b[39mones_like(network), create_graph\u001b[38;5;241m=\u001b[39m\u001b[38;5;28;01mTrue\u001b[39;00m)[\u001b[38;5;241m0\u001b[39m]\n\u001b[0;32m---> 25\u001b[0m dx2 \u001b[38;5;241m=\u001b[39m \u001b[43mtorch\u001b[49m\u001b[38;5;241;43m.\u001b[39;49m\u001b[43mautograd\u001b[49m\u001b[38;5;241;43m.\u001b[39;49m\u001b[43mgrad\u001b[49m\u001b[43m(\u001b[49m\u001b[43mdx\u001b[49m\u001b[43m,\u001b[49m\u001b[43m \u001b[49m\u001b[43mx_phys\u001b[49m\u001b[43m,\u001b[49m\u001b[43m \u001b[49m\u001b[43mtorch\u001b[49m\u001b[38;5;241;43m.\u001b[39;49m\u001b[43mones_like\u001b[49m\u001b[43m(\u001b[49m\u001b[43mdx\u001b[49m\u001b[43m)\u001b[49m\u001b[43m,\u001b[49m\u001b[43m \u001b[49m\u001b[43mcreate_graph\u001b[49m\u001b[38;5;241;43m=\u001b[39;49m\u001b[38;5;28;43;01mTrue\u001b[39;49;00m\u001b[43m)\u001b[49m[\u001b[38;5;241m0\u001b[39m]\n\u001b[1;32m     27\u001b[0m loss3 \u001b[38;5;241m=\u001b[39m torch\u001b[38;5;241m.\u001b[39mmean((dt \u001b[38;5;241m-\u001b[39m dx2)\u001b[38;5;241m*\u001b[39m\u001b[38;5;241m*\u001b[39m\u001b[38;5;241m2\u001b[39m)\n\u001b[1;32m     29\u001b[0m loss \u001b[38;5;241m=\u001b[39m loss2 \u001b[38;5;241m+\u001b[39m loss3 \u001b[38;5;241m+\u001b[39m loss1\n",
      "File \u001b[0;32m/Library/Frameworks/Python.framework/Versions/3.11/lib/python3.11/site-packages/torch/autograd/__init__.py:303\u001b[0m, in \u001b[0;36mgrad\u001b[0;34m(outputs, inputs, grad_outputs, retain_graph, create_graph, only_inputs, allow_unused, is_grads_batched)\u001b[0m\n\u001b[1;32m    301\u001b[0m     \u001b[38;5;28;01mreturn\u001b[39;00m _vmap_internals\u001b[38;5;241m.\u001b[39m_vmap(vjp, \u001b[38;5;241m0\u001b[39m, \u001b[38;5;241m0\u001b[39m, allow_none_pass_through\u001b[38;5;241m=\u001b[39m\u001b[38;5;28;01mTrue\u001b[39;00m)(grad_outputs_)\n\u001b[1;32m    302\u001b[0m \u001b[38;5;28;01melse\u001b[39;00m:\n\u001b[0;32m--> 303\u001b[0m     \u001b[38;5;28;01mreturn\u001b[39;00m \u001b[43mVariable\u001b[49m\u001b[38;5;241;43m.\u001b[39;49m\u001b[43m_execution_engine\u001b[49m\u001b[38;5;241;43m.\u001b[39;49m\u001b[43mrun_backward\u001b[49m\u001b[43m(\u001b[49m\u001b[43m  \u001b[49m\u001b[38;5;66;43;03m# Calls into the C++ engine to run the backward pass\u001b[39;49;00m\n\u001b[1;32m    304\u001b[0m \u001b[43m        \u001b[49m\u001b[43mt_outputs\u001b[49m\u001b[43m,\u001b[49m\u001b[43m \u001b[49m\u001b[43mgrad_outputs_\u001b[49m\u001b[43m,\u001b[49m\u001b[43m \u001b[49m\u001b[43mretain_graph\u001b[49m\u001b[43m,\u001b[49m\u001b[43m \u001b[49m\u001b[43mcreate_graph\u001b[49m\u001b[43m,\u001b[49m\u001b[43m \u001b[49m\u001b[43mt_inputs\u001b[49m\u001b[43m,\u001b[49m\n\u001b[1;32m    305\u001b[0m \u001b[43m        \u001b[49m\u001b[43mallow_unused\u001b[49m\u001b[43m,\u001b[49m\u001b[43m \u001b[49m\u001b[43maccumulate_grad\u001b[49m\u001b[38;5;241;43m=\u001b[39;49m\u001b[38;5;28;43;01mFalse\u001b[39;49;00m\u001b[43m)\u001b[49m\n",
      "\u001b[0;31mKeyboardInterrupt\u001b[0m: "
     ]
    }
   ],
   "source": [
    "\"\"\"\n",
    "Neural network training using sum of MSE, boundary condition and partial dirivatives.\n",
    "\"\"\"\n",
    "epochs = 5000\n",
    "# previous_loss = float('inf')\n",
    "# tolerance = 1e-2\n",
    "# num_iter_with_small_changes = 0\n",
    "# max_iter_with_small_changes = 10\n",
    "# max_learning_rate = 1.5\n",
    "\n",
    "\n",
    "for i in range(epochs):\n",
    "    optimizer.zero_grad()\n",
    "    \n",
    "    #compute MSE of T(t,x) and points that were pridicted by PINN\n",
    "    network = pinn.forward(points)\n",
    "    network_bc = pinn.forward(points_bc)\n",
    "    \n",
    "    loss1 = torch.mean((f_real(t_phys, x_phys) - network)**2)\n",
    "    loss2 = torch.mean((f_real(torch.zeros_like(x_phys), x_phys) - network_bc)**2)\n",
    "    \n",
    "    #compute loss using derivatives\n",
    "    dt = torch.autograd.grad(network, t_phys, torch.ones_like(network), create_graph=True)[0]\n",
    "    dx = torch.autograd.grad(network, x_phys, torch.ones_like(network), create_graph=True)[0]\n",
    "    dx2 = torch.autograd.grad(dx, x_phys, torch.ones_like(dx), create_graph=True)[0]\n",
    "\n",
    "    loss3 = torch.mean((dt - dx2)**2)\n",
    "    \n",
    "    loss = loss2 + loss3 + loss1\n",
    "    loss.backward()\n",
    "    \n",
    "    optimizer.step()\n",
    "    scheduler.step(loss)\n",
    "    \n",
    "#     delta_loss = previous_loss - loss\n",
    "    \n",
    "#     if delta_loss <= tolerance:\n",
    "#         num_iter_with_small_changes += 1\n",
    "#     else:\n",
    "#         num_iter_with_small_changes = 0\n",
    "\n",
    "#     if num_iter_with_small_changes >= max_iter_with_small_changes:\n",
    "#         current_lr = optimizer.param_groups[0]['lr']\n",
    "#         new_lr = current_lr * 1.7\n",
    "#         optimizer.param_groups[0]['lr'] = max(new_lr, max_learning_rate)  # Увеличьте learning_rate в 1.7 раз\n",
    "#         num_iter_with_small_changes = 0\n",
    "\n",
    "#     previous_loss = loss\n",
    "    \n",
    "    if i % 100 == 0:\n",
    "        print(f'epoch: {i}, loss: {loss}, learning_rate: {optimizer.param_groups[0][\"lr\"]}')\n",
    "\n",
    "print(f'epoch: {i}, loss: {loss}, learning_rate: {optimizer.param_groups[0][\"lr\"]}')\n"
   ]
  },
  {
   "cell_type": "code",
   "execution_count": 11,
   "id": "4b2a2781",
   "metadata": {},
   "outputs": [
    {
     "data": {
      "image/png": "[encoded data removed]",
      "text/plain": [
       "<Figure size 640x480 with 1 Axes>"
      ]
     },
     "metadata": {},
     "output_type": "display_data"
    }
   ],
   "source": [
    "xs = torch.linspace(0, 1, 100)\n",
    "ts = torch.zeros(100)\n",
    "graph_points = torch.stack((ts, xs), axis=-1)\n",
    "#print(graph_points)\n",
    "T_nn = pinn.forward(graph_points).view(100)\n",
    "plt.plot(xs.numpy(), T_nn.detach().numpy())\n",
    "T_real = f_real(ts, xs).view(100)\n",
    "plt.plot(xs.numpy(), T_real.numpy())\n",
    "\n",
    "plt.plot()\n",
    "plt.show()"
   ]
  },
  {
   "cell_type": "code",
   "execution_count": 12,
   "id": "31d0c8be",
   "metadata": {},
   "outputs": [
    {
     "name": "stdout",
     "output_type": "stream",
     "text": [
      "tensor(2.1527, grad_fn=<AddBackward0>)\n"
     ]
    }
   ],
   "source": [
    "print(loss)"
   ]
  },
  {
   "cell_type": "code",
   "execution_count": null,
   "id": "9a167bd6",
   "metadata": {},
   "outputs": [],
   "source": []
  },
  {
   "cell_type": "code",
   "execution_count": null,
   "id": "0393f637",
   "metadata": {},
   "outputs": [],
   "source": []
  },
  {
   "cell_type": "code",
   "execution_count": null,
   "id": "f695bdda",
   "metadata": {},
   "outputs": [],
   "source": []
  },
  {
   "cell_type": "code",
   "execution_count": null,
   "id": "25982ca9",
   "metadata": {},
   "outputs": [],
   "source": []
  },
  {
   "cell_type": "code",
   "execution_count": 52,
   "id": "c6852917",
   "metadata": {},
   "outputs": [
    {
     "name": "stdout",
     "output_type": "stream",
     "text": [
      "epoch: 0\tamount of loss: 4.951014041900635\t\n",
      "epoch: 50\tamount of loss: 1.277353286743164\t\n",
      "epoch: 100\tamount of loss: 1.3161898851394653\t\n",
      "epoch: 150\tamount of loss: 1.2619175910949707\t\n",
      "epoch: 200\tamount of loss: 1.1619625091552734\t\n",
      "epoch: 250\tamount of loss: 1.1108143329620361\t\n",
      "epoch: 300\tamount of loss: 1.0971288681030273\t\n",
      "epoch: 350\tamount of loss: 1.093517541885376\t\n",
      "epoch: 400\tamount of loss: 1.0925331115722656\t\n",
      "epoch: 450\tamount of loss: 1.0922656059265137\t\n"
     ]
    }
   ],
   "source": [
    "\"\"\"\n",
    "Neural network training using only partial dirivatives and boundary condition.\n",
    "\"\"\"\n",
    "pinn_new = PINN()\n",
    "optimizer_new = torch.optim.Adam(pinn_new.parameters(), lr=0.01)\n",
    "#scheduler = torch.optim.lr_scheduler.StepLR(optimizer, step_size = 60, gamma=0.5)\n",
    "scheduler_new = torch.optim.lr_scheduler.ReduceLROnPlateau(optimizer_new, 'min', factor=0.75)\n",
    "epochs = 500\n",
    "\n",
    "for i in range(epochs):\n",
    "    #compute MSE of T(t,x) and points that were pridicted by PINN\n",
    "    network_new = pinn_new.forward(points)\n",
    "    y_bc_new = pinn_new.forward(points_bc)\n",
    "    \n",
    "    loss1 = torch.mean((f_real(t_phys, x_phys) - network)**2)\n",
    "    loss2 = torch.mean((f_real(torch.zeros_like(x_phys), x_phys) - y_bc_new)**2)\n",
    "    \n",
    "    #compute loss using derivatives\n",
    "    dt = torch.autograd.grad(network, t_phys, torch.ones_like(network), create_graph=True)[0]\n",
    "    dx = torch.autograd.grad(network, x_phys, torch.ones_like(network), create_graph=True)[0]\n",
    "    dx2 = torch.autograd.grad(dx, x_phys, torch.ones_like(dx), create_graph=True)[0]\n",
    "    loss3 = torch.mean((dt - dx2)**2)\n",
    "    \n",
    "    \n",
    "    loss2_new = torch.mean((f_real(torch.zeros_like(x_data), x_data) - y_bc_new)**2)\n",
    "    \n",
    "    #compute loss using derivatives\n",
    "    dt_new = torch.autograd.grad(network_new, t_phys, torch.ones_like(network_new), create_graph=True)[0]\n",
    "    dx_new = torch.autograd.grad(network_new, x_phys, torch.ones_like(network_new), create_graph=True)[0]\n",
    "    dx2_new = torch.autograd.grad(dx_new, x_phys, torch.ones_like(dx_new), create_graph=True)[0]\n",
    "    loss3_new = torch.mean((dt_new - dx_new)**2)\n",
    "    \n",
    "    loss_new = loss2_new + loss3_new\n",
    "    loss_new.backward()\n",
    "    \n",
    "    optimizer_new.step()\n",
    "    scheduler_new.step(loss)\n",
    "    if i % 50 == 0:\n",
    "        print(f'epoch: {i}\\tamount of loss: {loss_new}\\t')"
   ]
  },
  {
   "cell_type": "code",
   "execution_count": 21,
   "id": "c575820d",
   "metadata": {},
   "outputs": [
    {
     "data": {
      "image/png": "[encoded data removed]",
      "text/plain": [
       "<Figure size 640x480 with 1 Axes>"
      ]
     },
     "metadata": {},
     "output_type": "display_data"
    }
   ],
   "source": [
    "xs = torch.linspace(0, 1, 100)\n",
    "ts = torch.zeros(100)\n",
    "graph_points = torch.stack((ts, xs), axis=-1)\n",
    "#print(graph_points)\n",
    "T_nn = pinn.forward(graph_points).view(100)\n",
    "plt.plot(xs.numpy(), T_nn.detach().numpy())\n",
    "T_real = f_real(ts, xs).view(100)\n",
    "plt.plot(xs.numpy(), T_real.numpy())\n",
    "\n",
    "plt.plot()\n",
    "plt.show()"
   ]
  },
  {
   "cell_type": "code",
   "execution_count": 20,
   "id": "7db98999",
   "metadata": {},
   "outputs": [
    {
     "name": "stdout",
     "output_type": "stream",
     "text": [
      "tensor(0.9646, grad_fn=<AddBackward0>)\n"
     ]
    }
   ],
   "source": [
    "print(loss)"
   ]
  },
  {
   "cell_type": "code",
   "execution_count": null,
   "id": "6a2e10a6",
   "metadata": {},
   "outputs": [],
   "source": []
  }
 ],
 "metadata": {
  "kernelspec": {
   "display_name": "Python 3 (ipykernel)",
   "language": "python",
   "name": "python3"
  },
  "language_info": {
   "codemirror_mode": {
    "name": "ipython",
    "version": 3
   },
   "file_extension": ".py",
   "mimetype": "text/x-python",
   "name": "python",
   "nbconvert_exporter": "python",
   "pygments_lexer": "ipython3",
   "version": "3.11.0"
  }
 },
 "nbformat": 4,
 "nbformat_minor": 5
}
