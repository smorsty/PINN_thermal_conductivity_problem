{
 "cells": [
  {
   "cell_type": "code",
   "execution_count": 1,
   "id": "1848d961",
   "metadata": {},
   "outputs": [],
   "source": [
    "import torch\n",
    "import torch.nn as nn\n",
    "import torch.nn.functional as F\n",
    "import numpy as np\n",
    "import matplotlib.pyplot as plt"
   ]
  },
  {
   "cell_type": "markdown",
   "id": "d2094b82",
   "metadata": {},
   "source": [
    "The thermal conductivity equation:\n",
    "$\\frac{\\partial T}{\\partial t} - \\frac{{\\partial}^2 T}{\\partial x^2} = 0$\n",
    "\n",
    "Assume $ T(t, x) = 2 + e^{-4 \\pi^2 t} sin(2\\pi x) + e^{-16\\pi^2 t} cos(4\\pi x)$, $x\\in[0,1], t\\in[0,0.05]$\n",
    "$\\\\$Boundary condition $T_0 = T(0, x) = 2 + sin(2\\pi x) + cos(4\\pi x)$"
   ]
  },
  {
   "cell_type": "code",
   "execution_count": 2,
   "id": "a86c6621",
   "metadata": {},
   "outputs": [],
   "source": [
    "#define amount of sample points\n",
    "N = 2000"
   ]
  },
  {
   "cell_type": "code",
   "execution_count": 3,
   "id": "67f284f2",
   "metadata": {},
   "outputs": [],
   "source": [
    "#in the beginning we plot graph of the thermal conductivity process\n",
    "def f_real(t, x):\n",
    "    return (2 + torch.exp(-4*(torch.pi**2)*t)*torch.sin(2*torch.pi*x) + torch.exp(-16*(torch.pi**2)*t)*torch.cos(4*torch.pi*x))"
   ]
  },
  {
   "cell_type": "code",
   "execution_count": 4,
   "id": "dba50661",
   "metadata": {},
   "outputs": [],
   "source": [
    "#define the class PINN\n",
    "class PINN(nn.Module):\n",
    "    def __init__(self,input_layer=2,h1=64,h2=64,h3=64,output_layer=1):\n",
    "        super().__init__()\n",
    "#         activation = nn.Tanh\n",
    "        self.fc1 = nn.Linear(input_layer,h1)\n",
    "        self.fc2 = nn.Linear(h1,h2)\n",
    "        self.fc3 = nn.Linear(h2,h3)\n",
    "        self.fc4 = nn.Linear(h3,output_layer)\n",
    "        \n",
    "    def forward(self, x):\n",
    "        x = F.gelu(self.fc1(x))\n",
    "        x = F.gelu(self.fc2(x))\n",
    "        x = F.gelu(self.fc3(x))\n",
    "        x = F.gelu(self.fc4(x))\n",
    "        \n",
    "        return x"
   ]
  },
  {
   "cell_type": "code",
   "execution_count": 5,
   "id": "dc5f4e23",
   "metadata": {},
   "outputs": [
    {
     "data": {
      "text/plain": [
       "<torch._C.Generator at 0x117bd59b0>"
      ]
     },
     "execution_count": 5,
     "metadata": {},
     "output_type": "execute_result"
    }
   ],
   "source": [
    "torch.manual_seed(123)"
   ]
  },
  {
   "cell_type": "code",
   "execution_count": 6,
   "id": "066fcf28",
   "metadata": {},
   "outputs": [],
   "source": [
    "x_phys = torch.rand(N).view(-1,1).requires_grad_(True)\n",
    "t_ = 0.05 * torch.rand(N).view(-1,1)\n",
    "t_phys = t_.requires_grad_(True)\n",
    "points = torch.stack((t_phys,x_phys), -1)\n",
    "points_bc = torch.stack((torch.zeros(N,1), x_phys), -1)\n",
    "\n",
    "pinn = PINN()\n",
    "optimizer = torch.optim.SGD(pinn.parameters(), lr=0.1)\n",
    "scheduler = torch.optim.lr_scheduler.ReduceLROnPlateau(\n",
    "    optimizer,\n",
    "    mode='min',\n",
    "    factor=0.7,\n",
    "#     patience=1,\n",
    "#     threshold=1e-2,\n",
    "#     threshold_mode='rel',\n",
    ")"
   ]
  },
  {
   "cell_type": "markdown",
   "id": "ee037300",
   "metadata": {},
   "source": [
    "Loss1 = $\\frac{1}{N} \\sum_{i=1}^{N}(T(t_i, x_i)- f_{PINN}(t_i, x_i))^2$\n",
    "\n",
    "Loss2 = $\\frac{1}{N} \\sum_{i=1}^{N}(T_0(x_i)- f_{PINN}(0, x_i))^2$\n",
    "\n",
    "Loss3 = $\\frac{1}{N} \\sum_{i=1}^{N}(\\frac{\\partial}{\\partial t}f_{PINN}(t_i, x_i) - \\frac{{\\partial}^2 }{\\partial x^2}f_{PINN}(t_i, x_i))^2$"
   ]
  },
  {
   "cell_type": "code",
   "execution_count": 7,
   "id": "f79331c5",
   "metadata": {},
   "outputs": [
    {
     "name": "stdout",
     "output_type": "stream",
     "text": [
      "epoch: 0, loss: 8.751119613647461, learning_rate: 0.1\n",
      "epoch: 100, loss: 1.2268465757369995, learning_rate: 0.005764800999999997\n",
      "epoch: 200, loss: 1.2355479001998901, learning_rate: 0.0003323293056960096\n",
      "epoch: 300, loss: 1.2081081867218018, learning_rate: 1.3410686196639624e-05\n",
      "epoch: 400, loss: 1.2083954811096191, learning_rate: 5.411695603795198e-07\n",
      "epoch: 500, loss: 1.2083165645599365, learning_rate: 3.119734822845415e-08\n",
      "epoch: 600, loss: 1.208277702331543, learning_rate: 3.119734822845415e-08\n",
      "epoch: 700, loss: 1.2082208395004272, learning_rate: 3.119734822845415e-08\n",
      "epoch: 800, loss: 1.2081472873687744, learning_rate: 3.119734822845415e-08\n",
      "epoch: 900, loss: 1.2080564498901367, learning_rate: 3.119734822845415e-08\n",
      "epoch: 1000, loss: 1.2079499959945679, learning_rate: 3.119734822845415e-08\n",
      "epoch: 1100, loss: 1.207829236984253, learning_rate: 3.119734822845415e-08\n",
      "epoch: 1200, loss: 1.20769464969635, learning_rate: 3.119734822845415e-08\n",
      "epoch: 1300, loss: 1.2075486183166504, learning_rate: 3.119734822845415e-08\n",
      "epoch: 1400, loss: 1.2073918581008911, learning_rate: 3.119734822845415e-08\n",
      "epoch: 1500, loss: 1.2072256803512573, learning_rate: 3.119734822845415e-08\n",
      "epoch: 1600, loss: 1.2070527076721191, learning_rate: 3.119734822845415e-08\n",
      "epoch: 1700, loss: 1.206874132156372, learning_rate: 3.119734822845415e-08\n",
      "epoch: 1800, loss: 1.2066917419433594, learning_rate: 3.119734822845415e-08\n",
      "epoch: 1900, loss: 1.206507682800293, learning_rate: 3.119734822845415e-08\n",
      "epoch: 2000, loss: 1.2063238620758057, learning_rate: 3.119734822845415e-08\n",
      "epoch: 2100, loss: 1.2061415910720825, learning_rate: 3.119734822845415e-08\n",
      "epoch: 2200, loss: 1.2059632539749146, learning_rate: 3.119734822845415e-08\n"
     ]
    },
    {
     "ename": "KeyboardInterrupt",
     "evalue": "",
     "output_type": "error",
     "traceback": [
      "\u001b[0;31m---------------------------------------------------------------------------\u001b[0m",
      "\u001b[0;31mKeyboardInterrupt\u001b[0m                         Traceback (most recent call last)",
      "Cell \u001b[0;32mIn[7], line 30\u001b[0m\n\u001b[1;32m     27\u001b[0m loss3 \u001b[38;5;241m=\u001b[39m torch\u001b[38;5;241m.\u001b[39mmean((dt \u001b[38;5;241m-\u001b[39m dx2)\u001b[38;5;241m*\u001b[39m\u001b[38;5;241m*\u001b[39m\u001b[38;5;241m2\u001b[39m)\n\u001b[1;32m     29\u001b[0m loss \u001b[38;5;241m=\u001b[39m loss2 \u001b[38;5;241m+\u001b[39m loss3 \u001b[38;5;241m+\u001b[39m loss1\n\u001b[0;32m---> 30\u001b[0m \u001b[43mloss\u001b[49m\u001b[38;5;241;43m.\u001b[39;49m\u001b[43mbackward\u001b[49m\u001b[43m(\u001b[49m\u001b[43m)\u001b[49m\n\u001b[1;32m     32\u001b[0m optimizer\u001b[38;5;241m.\u001b[39mstep()\n\u001b[1;32m     33\u001b[0m scheduler\u001b[38;5;241m.\u001b[39mstep(loss)\n",
      "File \u001b[0;32m/Library/Frameworks/Python.framework/Versions/3.11/lib/python3.11/site-packages/torch/_tensor.py:487\u001b[0m, in \u001b[0;36mTensor.backward\u001b[0;34m(self, gradient, retain_graph, create_graph, inputs)\u001b[0m\n\u001b[1;32m    477\u001b[0m \u001b[38;5;28;01mif\u001b[39;00m has_torch_function_unary(\u001b[38;5;28mself\u001b[39m):\n\u001b[1;32m    478\u001b[0m     \u001b[38;5;28;01mreturn\u001b[39;00m handle_torch_function(\n\u001b[1;32m    479\u001b[0m         Tensor\u001b[38;5;241m.\u001b[39mbackward,\n\u001b[1;32m    480\u001b[0m         (\u001b[38;5;28mself\u001b[39m,),\n\u001b[0;32m   (...)\u001b[0m\n\u001b[1;32m    485\u001b[0m         inputs\u001b[38;5;241m=\u001b[39minputs,\n\u001b[1;32m    486\u001b[0m     )\n\u001b[0;32m--> 487\u001b[0m \u001b[43mtorch\u001b[49m\u001b[38;5;241;43m.\u001b[39;49m\u001b[43mautograd\u001b[49m\u001b[38;5;241;43m.\u001b[39;49m\u001b[43mbackward\u001b[49m\u001b[43m(\u001b[49m\n\u001b[1;32m    488\u001b[0m \u001b[43m    \u001b[49m\u001b[38;5;28;43mself\u001b[39;49m\u001b[43m,\u001b[49m\u001b[43m \u001b[49m\u001b[43mgradient\u001b[49m\u001b[43m,\u001b[49m\u001b[43m \u001b[49m\u001b[43mretain_graph\u001b[49m\u001b[43m,\u001b[49m\u001b[43m \u001b[49m\u001b[43mcreate_graph\u001b[49m\u001b[43m,\u001b[49m\u001b[43m \u001b[49m\u001b[43minputs\u001b[49m\u001b[38;5;241;43m=\u001b[39;49m\u001b[43minputs\u001b[49m\n\u001b[1;32m    489\u001b[0m \u001b[43m\u001b[49m\u001b[43m)\u001b[49m\n",
      "File \u001b[0;32m/Library/Frameworks/Python.framework/Versions/3.11/lib/python3.11/site-packages/torch/autograd/__init__.py:200\u001b[0m, in \u001b[0;36mbackward\u001b[0;34m(tensors, grad_tensors, retain_graph, create_graph, grad_variables, inputs)\u001b[0m\n\u001b[1;32m    195\u001b[0m     retain_graph \u001b[38;5;241m=\u001b[39m create_graph\n\u001b[1;32m    197\u001b[0m \u001b[38;5;66;03m# The reason we repeat same the comment below is that\u001b[39;00m\n\u001b[1;32m    198\u001b[0m \u001b[38;5;66;03m# some Python versions print out the first line of a multi-line function\u001b[39;00m\n\u001b[1;32m    199\u001b[0m \u001b[38;5;66;03m# calls in the traceback and some print out the last line\u001b[39;00m\n\u001b[0;32m--> 200\u001b[0m \u001b[43mVariable\u001b[49m\u001b[38;5;241;43m.\u001b[39;49m\u001b[43m_execution_engine\u001b[49m\u001b[38;5;241;43m.\u001b[39;49m\u001b[43mrun_backward\u001b[49m\u001b[43m(\u001b[49m\u001b[43m  \u001b[49m\u001b[38;5;66;43;03m# Calls into the C++ engine to run the backward pass\u001b[39;49;00m\n\u001b[1;32m    201\u001b[0m \u001b[43m    \u001b[49m\u001b[43mtensors\u001b[49m\u001b[43m,\u001b[49m\u001b[43m \u001b[49m\u001b[43mgrad_tensors_\u001b[49m\u001b[43m,\u001b[49m\u001b[43m \u001b[49m\u001b[43mretain_graph\u001b[49m\u001b[43m,\u001b[49m\u001b[43m \u001b[49m\u001b[43mcreate_graph\u001b[49m\u001b[43m,\u001b[49m\u001b[43m \u001b[49m\u001b[43minputs\u001b[49m\u001b[43m,\u001b[49m\n\u001b[1;32m    202\u001b[0m \u001b[43m    \u001b[49m\u001b[43mallow_unreachable\u001b[49m\u001b[38;5;241;43m=\u001b[39;49m\u001b[38;5;28;43;01mTrue\u001b[39;49;00m\u001b[43m,\u001b[49m\u001b[43m \u001b[49m\u001b[43maccumulate_grad\u001b[49m\u001b[38;5;241;43m=\u001b[39;49m\u001b[38;5;28;43;01mTrue\u001b[39;49;00m\u001b[43m)\u001b[49m\n",
      "\u001b[0;31mKeyboardInterrupt\u001b[0m: "
     ]
    }
   ],
   "source": [
    "\"\"\"\n",
    "Neural network training using sum of MSE, boundary condition and partial dirivatives.\n",
    "\"\"\"\n",
    "epochs = 5000\n",
    "# previous_loss = float('inf')\n",
    "# tolerance = 1e-2\n",
    "# num_iter_with_small_changes = 0\n",
    "# max_iter_with_small_changes = 10\n",
    "# max_learning_rate = 1.5\n",
    "\n",
    "\n",
    "for i in range(epochs):\n",
    "#     optimizer.zero_grad()\n",
    "    \n",
    "    #compute MSE of T(t,x) and points that were pridicted by PINN\n",
    "    network = pinn.forward(points)\n",
    "    network_bc = pinn.forward(points_bc)\n",
    "    \n",
    "    loss1 = torch.mean((f_real(t_phys, x_phys) - network)**2)\n",
    "    loss2 = torch.mean((f_real(torch.zeros_like(x_phys), x_phys) - network_bc)**2)\n",
    "    \n",
    "    #compute loss using derivatives\n",
    "    dt = torch.autograd.grad(network, t_phys, torch.ones_like(network), create_graph=True)[0]\n",
    "    dx = torch.autograd.grad(network, x_phys, torch.ones_like(network), create_graph=True)[0]\n",
    "    dx2 = torch.autograd.grad(dx, x_phys, torch.ones_like(dx), create_graph=True)[0]\n",
    "\n",
    "    loss3 = torch.mean((dt - dx2)**2)\n",
    "    \n",
    "    loss = loss2 + loss3 + loss1\n",
    "    loss.backward()\n",
    "    \n",
    "    optimizer.step()\n",
    "    scheduler.step(loss)\n",
    "    \n",
    "#     delta_loss = previous_loss - loss\n",
    "    \n",
    "#     if delta_loss <= tolerance:\n",
    "#         num_iter_with_small_changes += 1\n",
    "#     else:\n",
    "#         num_iter_with_small_changes = 0\n",
    "\n",
    "#     if num_iter_with_small_changes >= max_iter_with_small_changes:\n",
    "#         current_lr = optimizer.param_groups[0]['lr']\n",
    "#         new_lr = current_lr * 1.7\n",
    "#         optimizer.param_groups[0]['lr'] = max(new_lr, max_learning_rate)  # Увеличьте learning_rate в 1.7 раз\n",
    "#         num_iter_with_small_changes = 0\n",
    "\n",
    "#     previous_loss = loss\n",
    "    \n",
    "    if i % 100 == 0:\n",
    "        print(f'epoch: {i}, loss: {loss}, learning_rate: {optimizer.param_groups[0][\"lr\"]}')\n",
    "\n",
    "print(f'epoch: {i}, loss: {loss}, learning_rate: {optimizer.param_groups[0][\"lr\"]}')\n"
   ]
  },
  {
   "cell_type": "code",
   "execution_count": 8,
   "id": "4b2a2781",
   "metadata": {},
   "outputs": [
    {
     "data": {
      "image/png": "[encoded data removed]",
      "text/plain": [
       "<Figure size 640x480 with 1 Axes>"
      ]
     },
     "metadata": {},
     "output_type": "display_data"
    }
   ],
   "source": [
    "xs = torch.linspace(0, 1, 100)\n",
    "ts = torch.zeros(100)\n",
    "graph_points = torch.stack((ts, xs), axis=-1)\n",
    "#print(graph_points)\n",
    "T_nn = pinn.forward(graph_points).view(100)\n",
    "plt.plot(xs.numpy(), T_nn.detach().numpy())\n",
    "T_real = f_real(ts, xs).view(100)\n",
    "plt.plot(xs.numpy(), T_real.numpy())\n",
    "\n",
    "plt.plot()\n",
    "plt.show()"
   ]
  },
  {
   "cell_type": "code",
   "execution_count": 12,
   "id": "31d0c8be",
   "metadata": {},
   "outputs": [
    {
     "name": "stdout",
     "output_type": "stream",
     "text": [
      "tensor(2.1527, grad_fn=<AddBackward0>)\n"
     ]
    }
   ],
   "source": [
    "print(loss)"
   ]
  },
  {
   "cell_type": "code",
   "execution_count": null,
   "id": "9a167bd6",
   "metadata": {},
   "outputs": [],
   "source": []
  },
  {
   "cell_type": "code",
   "execution_count": null,
   "id": "0393f637",
   "metadata": {},
   "outputs": [],
   "source": []
  },
  {
   "cell_type": "code",
   "execution_count": null,
   "id": "f695bdda",
   "metadata": {},
   "outputs": [],
   "source": []
  },
  {
   "cell_type": "code",
   "execution_count": null,
   "id": "25982ca9",
   "metadata": {},
   "outputs": [],
   "source": []
  },
  {
   "cell_type": "code",
   "execution_count": 52,
   "id": "c6852917",
   "metadata": {},
   "outputs": [
    {
     "name": "stdout",
     "output_type": "stream",
     "text": [
      "epoch: 0\tamount of loss: 4.951014041900635\t\n",
      "epoch: 50\tamount of loss: 1.277353286743164\t\n",
      "epoch: 100\tamount of loss: 1.3161898851394653\t\n",
      "epoch: 150\tamount of loss: 1.2619175910949707\t\n",
      "epoch: 200\tamount of loss: 1.1619625091552734\t\n",
      "epoch: 250\tamount of loss: 1.1108143329620361\t\n",
      "epoch: 300\tamount of loss: 1.0971288681030273\t\n",
      "epoch: 350\tamount of loss: 1.093517541885376\t\n",
      "epoch: 400\tamount of loss: 1.0925331115722656\t\n",
      "epoch: 450\tamount of loss: 1.0922656059265137\t\n"
     ]
    }
   ],
   "source": [
    "\"\"\"\n",
    "Neural network training using only partial dirivatives and boundary condition.\n",
    "\"\"\"\n",
    "pinn_new = PINN()\n",
    "optimizer_new = torch.optim.Adam(pinn_new.parameters(), lr=0.01)\n",
    "#scheduler = torch.optim.lr_scheduler.StepLR(optimizer, step_size = 60, gamma=0.5)\n",
    "scheduler_new = torch.optim.lr_scheduler.ReduceLROnPlateau(optimizer_new, 'min', factor=0.75)\n",
    "epochs = 500\n",
    "\n",
    "for i in range(epochs):\n",
    "    #compute MSE of T(t,x) and points that were pridicted by PINN\n",
    "    network_new = pinn_new.forward(points)\n",
    "    y_bc_new = pinn_new.forward(points_bc)\n",
    "    \n",
    "    loss1 = torch.mean((f_real(t_phys, x_phys) - network)**2)\n",
    "    loss2 = torch.mean((f_real(torch.zeros_like(x_phys), x_phys) - y_bc_new)**2)\n",
    "    \n",
    "    #compute loss using derivatives\n",
    "    dt = torch.autograd.grad(network, t_phys, torch.ones_like(network), create_graph=True)[0]\n",
    "    dx = torch.autograd.grad(network, x_phys, torch.ones_like(network), create_graph=True)[0]\n",
    "    dx2 = torch.autograd.grad(dx, x_phys, torch.ones_like(dx), create_graph=True)[0]\n",
    "    loss3 = torch.mean((dt - dx2)**2)\n",
    "    \n",
    "    \n",
    "    loss2_new = torch.mean((f_real(torch.zeros_like(x_data), x_data) - y_bc_new)**2)\n",
    "    \n",
    "    #compute loss using derivatives\n",
    "    dt_new = torch.autograd.grad(network_new, t_phys, torch.ones_like(network_new), create_graph=True)[0]\n",
    "    dx_new = torch.autograd.grad(network_new, x_phys, torch.ones_like(network_new), create_graph=True)[0]\n",
    "    dx2_new = torch.autograd.grad(dx_new, x_phys, torch.ones_like(dx_new), create_graph=True)[0]\n",
    "    loss3_new = torch.mean((dt_new - dx_new)**2)\n",
    "    \n",
    "    loss_new = loss2_new + loss3_new\n",
    "    loss_new.backward()\n",
    "    \n",
    "    optimizer_new.step()\n",
    "    scheduler_new.step(loss)\n",
    "    if i % 50 == 0:\n",
    "        print(f'epoch: {i}\\tamount of loss: {loss_new}\\t')"
   ]
  },
  {
   "cell_type": "code",
   "execution_count": 21,
   "id": "c575820d",
   "metadata": {},
   "outputs": [
    {
     "data": {
      "image/png": "[encoded data removed]",
      "text/plain": [
       "<Figure size 640x480 with 1 Axes>"
      ]
     },
     "metadata": {},
     "output_type": "display_data"
    }
   ],
   "source": [
    "xs = torch.linspace(0, 1, 100)\n",
    "ts = torch.zeros(100)\n",
    "graph_points = torch.stack((ts, xs), axis=-1)\n",
    "#print(graph_points)\n",
    "T_nn = pinn.forward(graph_points).view(100)\n",
    "plt.plot(xs.numpy(), T_nn.detach().numpy())\n",
    "T_real = f_real(ts, xs).view(100)\n",
    "plt.plot(xs.numpy(), T_real.numpy())\n",
    "\n",
    "plt.plot()\n",
    "plt.show()"
   ]
  },
  {
   "cell_type": "code",
   "execution_count": 20,
   "id": "7db98999",
   "metadata": {},
   "outputs": [
    {
     "name": "stdout",
     "output_type": "stream",
     "text": [
      "tensor(0.9646, grad_fn=<AddBackward0>)\n"
     ]
    }
   ],
   "source": [
    "print(loss)"
   ]
  },
  {
   "cell_type": "code",
   "execution_count": null,
   "id": "6a2e10a6",
   "metadata": {},
   "outputs": [],
   "source": []
  }
 ],
 "metadata": {
  "kernelspec": {
   "display_name": "Python 3 (ipykernel)",
   "language": "python",
   "name": "python3"
  },
  "language_info": {
   "codemirror_mode": {
    "name": "ipython",
    "version": 3
   },
   "file_extension": ".py",
   "mimetype": "text/x-python",
   "name": "python",
   "nbconvert_exporter": "python",
   "pygments_lexer": "ipython3",
   "version": "3.11.0"
  }
 },
 "nbformat": 4,
 "nbformat_minor": 5
}
