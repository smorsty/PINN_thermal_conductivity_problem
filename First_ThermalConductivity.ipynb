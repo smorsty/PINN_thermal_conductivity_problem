{
 "cells": [
  {
   "cell_type": "code",
   "execution_count": 1,
   "id": "1848d961",
   "metadata": {},
   "outputs": [],
   "source": [
    "import torch\n",
    "import torch.nn as nn\n",
    "import torch.nn.functional as F\n",
    "import numpy as np\n",
    "import matplotlib.pyplot as plt"
   ]
  },
  {
   "cell_type": "markdown",
   "id": "d2094b82",
   "metadata": {},
   "source": [
    "The thermal conductivity equation:\n",
    "$\\frac{\\partial T}{\\partial t} - \\frac{{\\partial}^2 T}{\\partial x^2} = 0$\n",
    "\n",
    "Assume $ T(t, x) = 2 + e^{-4 \\pi^2 t} sin(2\\pi x) + e^{-16\\pi^2 t} cos(4\\pi x)$, $x\\in[0,1], t\\in[0, 0.05]$\n",
    "$\\\\$Boundary condition $T_0 = T(0, x) = 2 + sin(2\\pi x) + cos(4\\pi x)$"
   ]
  },
  {
   "cell_type": "code",
   "execution_count": 2,
   "id": "a86c6621",
   "metadata": {},
   "outputs": [],
   "source": [
    "#define amount of sample points\n",
    "N = 2000"
   ]
  },
  {
   "cell_type": "code",
   "execution_count": 3,
   "id": "67f284f2",
   "metadata": {},
   "outputs": [],
   "source": [
    "def f_real(t, x):\n",
    "    return (2 + torch.exp(-4*(torch.pi**2)*t)*torch.sin(2*torch.pi*x) + torch.exp(-16*(torch.pi**2)*t)*torch.cos(4*torch.pi*x))"
   ]
  },
  {
   "cell_type": "code",
   "execution_count": 4,
   "id": "dba50661",
   "metadata": {},
   "outputs": [],
   "source": [
    "#define the class PINN\n",
    "class PINN(nn.Module):\n",
    "    def __init__(self,input_layer=2,h1=64,h2=64,h3=64,output_layer=1):\n",
    "        super().__init__()\n",
    "        self.fc1 = nn.Linear(input_layer,h1)\n",
    "        self.fc2 = nn.Linear(h1,h2)\n",
    "        self.fc3 = nn.Linear(h2,h3)\n",
    "        self.fc4 = nn.Linear(h3,output_layer)\n",
    "        \n",
    "    def forward(self, x):\n",
    "        x = F.gelu(self.fc1(x))\n",
    "        x = F.gelu(self.fc2(x))\n",
    "        x = F.gelu(self.fc3(x))\n",
    "        x = F.gelu(self.fc4(x))\n",
    "        \n",
    "        return x"
   ]
  },
  {
   "cell_type": "code",
   "execution_count": 5,
   "id": "dc5f4e23",
   "metadata": {},
   "outputs": [
    {
     "data": {
      "text/plain": [
       "<torch._C.Generator at 0x117199590>"
      ]
     },
     "execution_count": 5,
     "metadata": {},
     "output_type": "execute_result"
    }
   ],
   "source": [
    "torch.manual_seed(123)"
   ]
  },
  {
   "cell_type": "code",
   "execution_count": 6,
   "id": "066fcf28",
   "metadata": {},
   "outputs": [],
   "source": [
    "# pinn = PINN()\n",
    "# optimizer = torch.optim.SGD(pinn.parameters(), lr=0.3) "
   ]
  },
  {
   "cell_type": "code",
   "execution_count": 7,
   "id": "23fd9543",
   "metadata": {},
   "outputs": [],
   "source": [
    "# x_phys = torch.rand(N).view(-1,1)\n",
    "# t_phys = 0.05 * torch.rand(N).view(-1,1)"
   ]
  },
  {
   "cell_type": "markdown",
   "id": "ee037300",
   "metadata": {},
   "source": [
    "Loss1 = $\\frac{1}{N} \\sum_{i=1}^{N}(T(t_i, x_i)- f_{PINN}(t_i, x_i))^2$\n",
    "\n",
    "Loss2 = $\\frac{1}{N} \\sum_{i=1}^{N}(T_0(x_i)- f_{PINN}(0, x_i))^2$\n",
    "\n",
    "Loss3 = $\\frac{1}{N} \\sum_{i=1}^{N}(\\frac{\\partial}{\\partial t}f_{PINN}(t_i, x_i) - \\frac{{\\partial}^2 }{\\partial x^2}f_{PINN}(t_i, x_i))^2$"
   ]
  },
  {
   "cell_type": "code",
   "execution_count": 33,
   "id": "20c3277a",
   "metadata": {},
   "outputs": [],
   "source": [
    "pinn = PINN()\n",
    "optimizer = torch.optim.SGD(pinn.parameters(), lr=0.01)\n",
    "\n",
    "x_phys = torch.rand(N).view(-1,1)\n",
    "t_phys = 0.05 * torch.rand(N).view(-1,1)"
   ]
  },
  {
   "cell_type": "code",
   "execution_count": 39,
   "id": "f79331c5",
   "metadata": {},
   "outputs": [
    {
     "name": "stdout",
     "output_type": "stream",
     "text": [
      "epoch: 0\tamount of loss: 0.875913679599762\t\n",
      "epoch: 100\tamount of loss: 0.868870735168457\t\n",
      "epoch: 200\tamount of loss: 0.875170111656189\t\n",
      "epoch: 300\tamount of loss: 0.8690474033355713\t\n",
      "epoch: 400\tamount of loss: 0.8755280375480652\t\n"
     ]
    },
    {
     "ename": "KeyboardInterrupt",
     "evalue": "",
     "output_type": "error",
     "traceback": [
      "\u001b[0;31m---------------------------------------------------------------------------\u001b[0m",
      "\u001b[0;31mKeyboardInterrupt\u001b[0m                         Traceback (most recent call last)",
      "Cell \u001b[0;32mIn[39], line 27\u001b[0m\n\u001b[1;32m     24\u001b[0m loss3 \u001b[38;5;241m=\u001b[39m torch\u001b[38;5;241m.\u001b[39mmean((dt \u001b[38;5;241m-\u001b[39m dx2)\u001b[38;5;241m*\u001b[39m\u001b[38;5;241m*\u001b[39m\u001b[38;5;241m2\u001b[39m)\n\u001b[1;32m     26\u001b[0m loss \u001b[38;5;241m=\u001b[39m loss2 \u001b[38;5;241m+\u001b[39m loss3 \u001b[38;5;241m+\u001b[39m loss1\n\u001b[0;32m---> 27\u001b[0m \u001b[43mloss\u001b[49m\u001b[38;5;241;43m.\u001b[39;49m\u001b[43mbackward\u001b[49m\u001b[43m(\u001b[49m\u001b[43m)\u001b[49m\n\u001b[1;32m     29\u001b[0m optimizer\u001b[38;5;241m.\u001b[39mstep()\n\u001b[1;32m     30\u001b[0m \u001b[38;5;66;03m#scheduler.step(loss)\u001b[39;00m\n",
      "File \u001b[0;32m/Library/Frameworks/Python.framework/Versions/3.11/lib/python3.11/site-packages/torch/_tensor.py:487\u001b[0m, in \u001b[0;36mTensor.backward\u001b[0;34m(self, gradient, retain_graph, create_graph, inputs)\u001b[0m\n\u001b[1;32m    477\u001b[0m \u001b[38;5;28;01mif\u001b[39;00m has_torch_function_unary(\u001b[38;5;28mself\u001b[39m):\n\u001b[1;32m    478\u001b[0m     \u001b[38;5;28;01mreturn\u001b[39;00m handle_torch_function(\n\u001b[1;32m    479\u001b[0m         Tensor\u001b[38;5;241m.\u001b[39mbackward,\n\u001b[1;32m    480\u001b[0m         (\u001b[38;5;28mself\u001b[39m,),\n\u001b[0;32m   (...)\u001b[0m\n\u001b[1;32m    485\u001b[0m         inputs\u001b[38;5;241m=\u001b[39minputs,\n\u001b[1;32m    486\u001b[0m     )\n\u001b[0;32m--> 487\u001b[0m \u001b[43mtorch\u001b[49m\u001b[38;5;241;43m.\u001b[39;49m\u001b[43mautograd\u001b[49m\u001b[38;5;241;43m.\u001b[39;49m\u001b[43mbackward\u001b[49m\u001b[43m(\u001b[49m\n\u001b[1;32m    488\u001b[0m \u001b[43m    \u001b[49m\u001b[38;5;28;43mself\u001b[39;49m\u001b[43m,\u001b[49m\u001b[43m \u001b[49m\u001b[43mgradient\u001b[49m\u001b[43m,\u001b[49m\u001b[43m \u001b[49m\u001b[43mretain_graph\u001b[49m\u001b[43m,\u001b[49m\u001b[43m \u001b[49m\u001b[43mcreate_graph\u001b[49m\u001b[43m,\u001b[49m\u001b[43m \u001b[49m\u001b[43minputs\u001b[49m\u001b[38;5;241;43m=\u001b[39;49m\u001b[43minputs\u001b[49m\n\u001b[1;32m    489\u001b[0m \u001b[43m\u001b[49m\u001b[43m)\u001b[49m\n",
      "File \u001b[0;32m/Library/Frameworks/Python.framework/Versions/3.11/lib/python3.11/site-packages/torch/autograd/__init__.py:200\u001b[0m, in \u001b[0;36mbackward\u001b[0;34m(tensors, grad_tensors, retain_graph, create_graph, grad_variables, inputs)\u001b[0m\n\u001b[1;32m    195\u001b[0m     retain_graph \u001b[38;5;241m=\u001b[39m create_graph\n\u001b[1;32m    197\u001b[0m \u001b[38;5;66;03m# The reason we repeat same the comment below is that\u001b[39;00m\n\u001b[1;32m    198\u001b[0m \u001b[38;5;66;03m# some Python versions print out the first line of a multi-line function\u001b[39;00m\n\u001b[1;32m    199\u001b[0m \u001b[38;5;66;03m# calls in the traceback and some print out the last line\u001b[39;00m\n\u001b[0;32m--> 200\u001b[0m \u001b[43mVariable\u001b[49m\u001b[38;5;241;43m.\u001b[39;49m\u001b[43m_execution_engine\u001b[49m\u001b[38;5;241;43m.\u001b[39;49m\u001b[43mrun_backward\u001b[49m\u001b[43m(\u001b[49m\u001b[43m  \u001b[49m\u001b[38;5;66;43;03m# Calls into the C++ engine to run the backward pass\u001b[39;49;00m\n\u001b[1;32m    201\u001b[0m \u001b[43m    \u001b[49m\u001b[43mtensors\u001b[49m\u001b[43m,\u001b[49m\u001b[43m \u001b[49m\u001b[43mgrad_tensors_\u001b[49m\u001b[43m,\u001b[49m\u001b[43m \u001b[49m\u001b[43mretain_graph\u001b[49m\u001b[43m,\u001b[49m\u001b[43m \u001b[49m\u001b[43mcreate_graph\u001b[49m\u001b[43m,\u001b[49m\u001b[43m \u001b[49m\u001b[43minputs\u001b[49m\u001b[43m,\u001b[49m\n\u001b[1;32m    202\u001b[0m \u001b[43m    \u001b[49m\u001b[43mallow_unreachable\u001b[49m\u001b[38;5;241;43m=\u001b[39;49m\u001b[38;5;28;43;01mTrue\u001b[39;49;00m\u001b[43m,\u001b[49m\u001b[43m \u001b[49m\u001b[43maccumulate_grad\u001b[49m\u001b[38;5;241;43m=\u001b[39;49m\u001b[38;5;28;43;01mTrue\u001b[39;49;00m\u001b[43m)\u001b[49m\n",
      "\u001b[0;31mKeyboardInterrupt\u001b[0m: "
     ]
    }
   ],
   "source": [
    "\"\"\"\n",
    "Neural network training using sum of MSE, boundary condition and partial dirivatives.\n",
    "\"\"\"\n",
    "#scheduler = torch.optim.lr_scheduler.CyclicLR(optimizer, base_lr=0.01, max_lr=0.1)\n",
    "#scheduler = torch.optim.lr_scheduler.ReduceLROnPlateau(optimizer, 'min', factor=0.9)\n",
    "\n",
    "for i in range(1000):\n",
    "    for batch in range(100):\n",
    "        x_phys_n = x_phys[batch*20:(batch+1)*20].requires_grad_(True)\n",
    "        t_phys_n = t_phys[batch*20:(batch+1)*20].requires_grad_(True)\n",
    "        points_n = torch.stack((t_phys_n,x_phys_n), -1)\n",
    "        points_bc_n = torch.stack((torch.zeros(20,1), x_phys_n), -1)\n",
    "\n",
    "        network = pinn.forward(points_n)\n",
    "        network_bc = pinn.forward(points_bc_n)\n",
    "\n",
    "        loss1 = torch.mean((f_real(t_phys_n, x_phys_n) - network)**2)\n",
    "        loss2 = torch.mean((f_real(torch.zeros_like(x_phys_n), x_phys_n) - network_bc)**2)\n",
    "\n",
    "        #compute loss using derivatives\n",
    "        dt = torch.autograd.grad(network, t_phys_n, torch.ones_like(network), create_graph=True)[0]\n",
    "        dx = torch.autograd.grad(network, x_phys_n, torch.ones_like(network), create_graph=True)[0]\n",
    "        dx2 = torch.autograd.grad(dx, x_phys_n, torch.ones_like(dx), create_graph=True)[0]\n",
    "        loss3 = torch.mean((dt - dx2)**2)\n",
    "\n",
    "        loss = loss2 + loss3 + loss1\n",
    "        loss.backward()\n",
    "\n",
    "        optimizer.step()\n",
    "        #scheduler.step(loss)\n",
    "    if i % 100 == 0:\n",
    "        print(f'epoch: {i}\\tamount of loss: {loss}\\t')#learning rate: {scheduler.get_last_lr()}')\n",
    "print(loss)"
   ]
  },
  {
   "cell_type": "code",
   "execution_count": 40,
   "id": "ed34d339",
   "metadata": {},
   "outputs": [
    {
     "data": {
      "image/png": "[encoded data removed]",
      "text/plain": [
       "<Figure size 640x480 with 1 Axes>"
      ]
     },
     "metadata": {},
     "output_type": "display_data"
    }
   ],
   "source": [
    "xs = torch.linspace(0, 1, 100)\n",
    "ts = torch.zeros(100)\n",
    "graph_points = torch.stack((ts, xs), axis=-1)\n",
    "#print(graph_points)\n",
    "T_nn = pinn.forward(graph_points).view(100)\n",
    "plt.plot(xs.numpy(), T_nn.detach().numpy())\n",
    "T_real = f_real(ts, xs).view(100)\n",
    "plt.plot(xs.numpy(), T_real.numpy())\n",
    "\n",
    "plt.plot()\n",
    "plt.show()"
   ]
  },
  {
   "cell_type": "code",
   "execution_count": 36,
   "id": "d4e3cd13",
   "metadata": {},
   "outputs": [
    {
     "name": "stdout",
     "output_type": "stream",
     "text": [
      "tensor(1.3737, grad_fn=<AddBackward0>)\n"
     ]
    }
   ],
   "source": [
    "print(loss)"
   ]
  },
  {
   "cell_type": "code",
   "execution_count": 37,
   "id": "b23c4d92",
   "metadata": {},
   "outputs": [
    {
     "name": "stdout",
     "output_type": "stream",
     "text": [
      "tensor([[0.9725],\n",
      "        [0.7365],\n",
      "        [0.7152],\n",
      "        [0.1513],\n",
      "        [0.9512],\n",
      "        [0.4517],\n",
      "        [0.2135],\n",
      "        [0.7595],\n",
      "        [0.5913],\n",
      "        [0.4653]], requires_grad=True)\n"
     ]
    }
   ],
   "source": [
    "x_phys = torch.rand(N).view(-1,1)\n",
    "print(x_phys[0:10].requires_grad_(True))\n"
   ]
  },
  {
   "cell_type": "code",
   "execution_count": 41,
   "id": "4cf67fdd",
   "metadata": {},
   "outputs": [
    {
     "name": "stdout",
     "output_type": "stream",
     "text": [
      "tensor([3.0000e+00, 3.0554e+00, 3.0945e+00, 3.1176e+00, 3.1250e+00, 3.1173e+00,\n",
      "        3.0954e+00, 3.0603e+00, 3.0134e+00, 2.9561e+00, 2.8898e+00, 2.8164e+00,\n",
      "        2.7377e+00, 2.6553e+00, 2.5713e+00, 2.4875e+00, 2.4057e+00, 2.3275e+00,\n",
      "        2.2548e+00, 2.1889e+00, 2.1312e+00, 2.0830e+00, 2.0451e+00, 2.0184e+00,\n",
      "        2.0034e+00, 2.0004e+00, 2.0094e+00, 2.0303e+00, 2.0627e+00, 2.1059e+00,\n",
      "        2.1589e+00, 2.2209e+00, 2.2904e+00, 2.3660e+00, 2.4462e+00, 2.5293e+00,\n",
      "        2.6134e+00, 2.6968e+00, 2.7776e+00, 2.8539e+00, 2.9239e+00, 2.9859e+00,\n",
      "        3.0383e+00, 3.0794e+00, 3.1081e+00, 3.1230e+00, 3.1232e+00, 3.1081e+00,\n",
      "        3.0770e+00, 3.0297e+00, 2.9663e+00, 2.8869e+00, 2.7921e+00, 2.6826e+00,\n",
      "        2.5595e+00, 2.4240e+00, 2.2776e+00, 2.1218e+00, 1.9586e+00, 1.7898e+00,\n",
      "        1.6176e+00, 1.4441e+00, 1.2714e+00, 1.1019e+00, 9.3776e-01, 7.8108e-01,\n",
      "        6.3398e-01, 4.9840e-01, 3.7617e-01, 2.6895e-01, 1.7817e-01, 1.0509e-01,\n",
      "        5.0685e-02, 1.5706e-02, 6.2931e-04, 5.6608e-03, 3.0732e-02, 7.5500e-02,\n",
      "        1.3935e-01, 2.2142e-01, 3.2059e-01, 4.3551e-01, 5.6463e-01, 7.0621e-01,\n",
      "        8.5836e-01, 1.0190e+00, 1.1862e+00, 1.3575e+00, 1.5309e+00, 1.7040e+00,\n",
      "        1.8748e+00, 2.0410e+00, 2.2008e+00, 2.3521e+00, 2.4932e+00, 2.6227e+00,\n",
      "        2.7391e+00, 2.8414e+00, 2.9285e+00, 3.0000e+00]) tensor([2.0516, 2.0510, 2.0504, 2.0499, 2.0493, 2.0488, 2.0482, 2.0477, 2.0471,\n",
      "        2.0466, 2.0460, 2.0455, 2.0449, 2.0444, 2.0438, 2.0433, 2.0428, 2.0422,\n",
      "        2.0417, 2.0412, 2.0406, 2.0401, 2.0396, 2.0391, 2.0385, 2.0380, 2.0375,\n",
      "        2.0370, 2.0364, 2.0359, 2.0354, 2.0349, 2.0344, 2.0338, 2.0333, 2.0328,\n",
      "        2.0323, 2.0318, 2.0313, 2.0308, 2.0302, 2.0297, 2.0292, 2.0287, 2.0282,\n",
      "        2.0276, 2.0271, 2.0266, 2.0261, 2.0256, 2.0250, 2.0245, 2.0240, 2.0235,\n",
      "        2.0229, 2.0224, 2.0219, 2.0214, 2.0208, 2.0203, 2.0198, 2.0192, 2.0187,\n",
      "        2.0181, 2.0176, 2.0170, 2.0165, 2.0159, 2.0154, 2.0148, 2.0143, 2.0137,\n",
      "        2.0132, 2.0126, 2.0120, 2.0115, 2.0109, 2.0103, 2.0098, 2.0092, 2.0086,\n",
      "        2.0080, 2.0075, 2.0069, 2.0063, 2.0057, 2.0051, 2.0046, 2.0040, 2.0034,\n",
      "        2.0028, 2.0022, 2.0016, 2.0010, 2.0004, 1.9998, 1.9992, 1.9986, 1.9980,\n",
      "        1.9975], grad_fn=<ViewBackward0>)\n"
     ]
    }
   ],
   "source": [
    "print(T_real, T_nn)"
   ]
  },
  {
   "cell_type": "code",
   "execution_count": null,
   "id": "0a1da40b",
   "metadata": {},
   "outputs": [],
   "source": []
  }
 ],
 "metadata": {
  "kernelspec": {
   "display_name": "Python 3 (ipykernel)",
   "language": "python",
   "name": "python3"
  },
  "language_info": {
   "codemirror_mode": {
    "name": "ipython",
    "version": 3
   },
   "file_extension": ".py",
   "mimetype": "text/x-python",
   "name": "python",
   "nbconvert_exporter": "python",
   "pygments_lexer": "ipython3",
   "version": "3.11.1"
  }
 },
 "nbformat": 4,
 "nbformat_minor": 5
}
